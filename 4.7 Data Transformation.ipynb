{
 "cells": [
  {
   "cell_type": "markdown",
   "id": "c94fa48e",
   "metadata": {},
   "source": [
    "# Data Transformation"
   ]
  },
  {
   "cell_type": "code",
   "execution_count": 8,
   "id": "be7b1d9b",
   "metadata": {},
   "outputs": [],
   "source": [
    "import numpy as np\n",
    "import pandas as pd\n",
    "import matplotlib.pyplot as plt\n",
    "import seaborn as sns\n",
    "%matplotlib inline "
   ]
  },
  {
   "cell_type": "code",
   "execution_count": 9,
   "id": "bf3e2e4f",
   "metadata": {},
   "outputs": [
    {
     "data": {
      "text/html": [
       "<div>\n",
       "<style scoped>\n",
       "    .dataframe tbody tr th:only-of-type {\n",
       "        vertical-align: middle;\n",
       "    }\n",
       "\n",
       "    .dataframe tbody tr th {\n",
       "        vertical-align: top;\n",
       "    }\n",
       "\n",
       "    .dataframe thead th {\n",
       "        text-align: right;\n",
       "    }\n",
       "</style>\n",
       "<table border=\"1\" class=\"dataframe\">\n",
       "  <thead>\n",
       "    <tr style=\"text-align: right;\">\n",
       "      <th></th>\n",
       "      <th>Datasrno</th>\n",
       "      <th>workex</th>\n",
       "      <th>gmat</th>\n",
       "    </tr>\n",
       "  </thead>\n",
       "  <tbody>\n",
       "    <tr>\n",
       "      <th>0</th>\n",
       "      <td>1</td>\n",
       "      <td>21</td>\n",
       "      <td>720</td>\n",
       "    </tr>\n",
       "    <tr>\n",
       "      <th>1</th>\n",
       "      <td>2</td>\n",
       "      <td>107</td>\n",
       "      <td>640</td>\n",
       "    </tr>\n",
       "    <tr>\n",
       "      <th>2</th>\n",
       "      <td>3</td>\n",
       "      <td>57</td>\n",
       "      <td>740</td>\n",
       "    </tr>\n",
       "    <tr>\n",
       "      <th>3</th>\n",
       "      <td>4</td>\n",
       "      <td>99</td>\n",
       "      <td>690</td>\n",
       "    </tr>\n",
       "    <tr>\n",
       "      <th>4</th>\n",
       "      <td>5</td>\n",
       "      <td>208</td>\n",
       "      <td>710</td>\n",
       "    </tr>\n",
       "    <tr>\n",
       "      <th>...</th>\n",
       "      <td>...</td>\n",
       "      <td>...</td>\n",
       "      <td>...</td>\n",
       "    </tr>\n",
       "    <tr>\n",
       "      <th>768</th>\n",
       "      <td>769</td>\n",
       "      <td>88</td>\n",
       "      <td>620</td>\n",
       "    </tr>\n",
       "    <tr>\n",
       "      <th>769</th>\n",
       "      <td>770</td>\n",
       "      <td>132</td>\n",
       "      <td>670</td>\n",
       "    </tr>\n",
       "    <tr>\n",
       "      <th>770</th>\n",
       "      <td>771</td>\n",
       "      <td>28</td>\n",
       "      <td>610</td>\n",
       "    </tr>\n",
       "    <tr>\n",
       "      <th>771</th>\n",
       "      <td>772</td>\n",
       "      <td>10</td>\n",
       "      <td>610</td>\n",
       "    </tr>\n",
       "    <tr>\n",
       "      <th>772</th>\n",
       "      <td>773</td>\n",
       "      <td>52</td>\n",
       "      <td>620</td>\n",
       "    </tr>\n",
       "  </tbody>\n",
       "</table>\n",
       "<p>773 rows × 3 columns</p>\n",
       "</div>"
      ],
      "text/plain": [
       "     Datasrno  workex  gmat\n",
       "0           1      21   720\n",
       "1           2     107   640\n",
       "2           3      57   740\n",
       "3           4      99   690\n",
       "4           5     208   710\n",
       "..        ...     ...   ...\n",
       "768       769      88   620\n",
       "769       770     132   670\n",
       "770       771      28   610\n",
       "771       772      10   610\n",
       "772       773      52   620\n",
       "\n",
       "[773 rows x 3 columns]"
      ]
     },
     "execution_count": 9,
     "metadata": {},
     "output_type": "execute_result"
    }
   ],
   "source": [
    "mba = pd.read_csv(\"C:\\\\Users\\\\nikhi\\\\OneDrive\\\\Desktop\\\\Social Prachar\\\\Excel files\\\\mba.csv\")\n",
    "mba"
   ]
  },
  {
   "cell_type": "code",
   "execution_count": 10,
   "id": "c143ccec",
   "metadata": {},
   "outputs": [],
   "source": [
    "del mba['Datasrno']"
   ]
  },
  {
   "cell_type": "code",
   "execution_count": 11,
   "id": "1eec0eb7",
   "metadata": {},
   "outputs": [
    {
     "data": {
      "text/html": [
       "<div>\n",
       "<style scoped>\n",
       "    .dataframe tbody tr th:only-of-type {\n",
       "        vertical-align: middle;\n",
       "    }\n",
       "\n",
       "    .dataframe tbody tr th {\n",
       "        vertical-align: top;\n",
       "    }\n",
       "\n",
       "    .dataframe thead th {\n",
       "        text-align: right;\n",
       "    }\n",
       "</style>\n",
       "<table border=\"1\" class=\"dataframe\">\n",
       "  <thead>\n",
       "    <tr style=\"text-align: right;\">\n",
       "      <th></th>\n",
       "      <th>workex</th>\n",
       "      <th>gmat</th>\n",
       "    </tr>\n",
       "  </thead>\n",
       "  <tbody>\n",
       "    <tr>\n",
       "      <th>0</th>\n",
       "      <td>21</td>\n",
       "      <td>720</td>\n",
       "    </tr>\n",
       "    <tr>\n",
       "      <th>1</th>\n",
       "      <td>107</td>\n",
       "      <td>640</td>\n",
       "    </tr>\n",
       "    <tr>\n",
       "      <th>2</th>\n",
       "      <td>57</td>\n",
       "      <td>740</td>\n",
       "    </tr>\n",
       "    <tr>\n",
       "      <th>3</th>\n",
       "      <td>99</td>\n",
       "      <td>690</td>\n",
       "    </tr>\n",
       "    <tr>\n",
       "      <th>4</th>\n",
       "      <td>208</td>\n",
       "      <td>710</td>\n",
       "    </tr>\n",
       "    <tr>\n",
       "      <th>...</th>\n",
       "      <td>...</td>\n",
       "      <td>...</td>\n",
       "    </tr>\n",
       "    <tr>\n",
       "      <th>768</th>\n",
       "      <td>88</td>\n",
       "      <td>620</td>\n",
       "    </tr>\n",
       "    <tr>\n",
       "      <th>769</th>\n",
       "      <td>132</td>\n",
       "      <td>670</td>\n",
       "    </tr>\n",
       "    <tr>\n",
       "      <th>770</th>\n",
       "      <td>28</td>\n",
       "      <td>610</td>\n",
       "    </tr>\n",
       "    <tr>\n",
       "      <th>771</th>\n",
       "      <td>10</td>\n",
       "      <td>610</td>\n",
       "    </tr>\n",
       "    <tr>\n",
       "      <th>772</th>\n",
       "      <td>52</td>\n",
       "      <td>620</td>\n",
       "    </tr>\n",
       "  </tbody>\n",
       "</table>\n",
       "<p>773 rows × 2 columns</p>\n",
       "</div>"
      ],
      "text/plain": [
       "     workex  gmat\n",
       "0        21   720\n",
       "1       107   640\n",
       "2        57   740\n",
       "3        99   690\n",
       "4       208   710\n",
       "..      ...   ...\n",
       "768      88   620\n",
       "769     132   670\n",
       "770      28   610\n",
       "771      10   610\n",
       "772      52   620\n",
       "\n",
       "[773 rows x 2 columns]"
      ]
     },
     "execution_count": 11,
     "metadata": {},
     "output_type": "execute_result"
    }
   ],
   "source": [
    "mba"
   ]
  },
  {
   "cell_type": "markdown",
   "id": "8a2abf22",
   "metadata": {},
   "source": [
    "# Standardization (x-u/sigma)"
   ]
  },
  {
   "cell_type": "code",
   "execution_count": 14,
   "id": "7df97b10",
   "metadata": {},
   "outputs": [],
   "source": [
    "from sklearn import preprocessing\n",
    "# Scaler is a function used to create the standard function\n",
    "scaler = preprocessing.StandardScaler() "
   ]
  },
  {
   "cell_type": "code",
   "execution_count": 15,
   "id": "7d757f30",
   "metadata": {},
   "outputs": [],
   "source": [
    "mba1 = scaler.fit(mba) # Applied on the dataset\n",
    "mba1 = scaler.transform(mba) # It will convert the values into scaled data"
   ]
  },
  {
   "cell_type": "markdown",
   "id": "ac781c54",
   "metadata": {},
   "source": []
  },
  {
   "cell_type": "markdown",
   "id": "ba24ff7f",
   "metadata": {},
   "source": []
  },
  {
   "cell_type": "code",
   "execution_count": 16,
   "id": "c2b95bce",
   "metadata": {},
   "outputs": [
    {
     "data": {
      "text/plain": [
       "array([[-1.3336917 ,  0.30134669],\n",
       "       [ 1.80853813, -2.42709832],\n",
       "       [-0.01833968,  0.98345794],\n",
       "       ...,\n",
       "       [-1.07792881, -3.4502652 ],\n",
       "       [-1.73560482, -3.4502652 ],\n",
       "       [-0.20102746, -3.10920957]])"
      ]
     },
     "execution_count": 16,
     "metadata": {},
     "output_type": "execute_result"
    }
   ],
   "source": [
    "mba1"
   ]
  },
  {
   "cell_type": "code",
   "execution_count": 17,
   "id": "90c4ec59",
   "metadata": {},
   "outputs": [
    {
     "data": {
      "text/plain": [
       "array([[-1.3336917 ,  0.30134669],\n",
       "       [ 1.80853813, -2.42709832],\n",
       "       [-0.01833968,  0.98345794],\n",
       "       ...,\n",
       "       [-1.07792881, -3.4502652 ],\n",
       "       [-1.73560482, -3.4502652 ],\n",
       "       [-0.20102746, -3.10920957]])"
      ]
     },
     "execution_count": 17,
     "metadata": {},
     "output_type": "execute_result"
    }
   ],
   "source": [
    "# Second Method\n",
    "# We can us the scale function to standardize the data\n",
    "# Scale function is available under sklearn module\n",
    "\n",
    "from sklearn.preprocessing import scale\n",
    "mba2 = scale(mba)\n",
    "mba2"
   ]
  },
  {
   "cell_type": "markdown",
   "id": "b5a5125a",
   "metadata": {},
   "source": [
    "# Normalization (x-minx/Range)- Rescale the Data"
   ]
  },
  {
   "cell_type": "code",
   "execution_count": 18,
   "id": "b5213f26",
   "metadata": {},
   "outputs": [],
   "source": [
    "from sklearn.preprocessing import MinMaxScaler\n",
    "# Scaler is a function used to create the standard function\n",
    "# scaler = preprocessing.StandardScaler()"
   ]
  },
  {
   "cell_type": "code",
   "execution_count": 19,
   "id": "de7d1b48",
   "metadata": {},
   "outputs": [],
   "source": [
    "scale = MinMaxScaler()"
   ]
  },
  {
   "cell_type": "code",
   "execution_count": 20,
   "id": "c6fe836a",
   "metadata": {},
   "outputs": [
    {
     "data": {
      "text/plain": [
       "array([[0.04444444, 0.66666667],\n",
       "       [0.36296296, 0.22222222],\n",
       "       [0.17777778, 0.77777778],\n",
       "       ...,\n",
       "       [0.07037037, 0.05555556],\n",
       "       [0.0037037 , 0.05555556],\n",
       "       [0.15925926, 0.11111111]])"
      ]
     },
     "execution_count": 20,
     "metadata": {},
     "output_type": "execute_result"
    }
   ],
   "source": [
    "mba3 = scale.fit(mba)\n",
    "mba3 = scale.transform(mba)\n",
    "mba3"
   ]
  },
  {
   "cell_type": "code",
   "execution_count": 23,
   "id": "e27c5e12",
   "metadata": {},
   "outputs": [
    {
     "data": {
      "text/html": [
       "<div>\n",
       "<style scoped>\n",
       "    .dataframe tbody tr th:only-of-type {\n",
       "        vertical-align: middle;\n",
       "    }\n",
       "\n",
       "    .dataframe tbody tr th {\n",
       "        vertical-align: top;\n",
       "    }\n",
       "\n",
       "    .dataframe thead th {\n",
       "        text-align: right;\n",
       "    }\n",
       "</style>\n",
       "<table border=\"1\" class=\"dataframe\">\n",
       "  <thead>\n",
       "    <tr style=\"text-align: right;\">\n",
       "      <th></th>\n",
       "      <th>workex</th>\n",
       "      <th>gmat</th>\n",
       "    </tr>\n",
       "  </thead>\n",
       "  <tbody>\n",
       "    <tr>\n",
       "      <th>0</th>\n",
       "      <td>0.044444</td>\n",
       "      <td>0.666667</td>\n",
       "    </tr>\n",
       "    <tr>\n",
       "      <th>1</th>\n",
       "      <td>0.362963</td>\n",
       "      <td>0.222222</td>\n",
       "    </tr>\n",
       "    <tr>\n",
       "      <th>2</th>\n",
       "      <td>0.177778</td>\n",
       "      <td>0.777778</td>\n",
       "    </tr>\n",
       "    <tr>\n",
       "      <th>3</th>\n",
       "      <td>0.333333</td>\n",
       "      <td>0.500000</td>\n",
       "    </tr>\n",
       "    <tr>\n",
       "      <th>4</th>\n",
       "      <td>0.737037</td>\n",
       "      <td>0.611111</td>\n",
       "    </tr>\n",
       "    <tr>\n",
       "      <th>...</th>\n",
       "      <td>...</td>\n",
       "      <td>...</td>\n",
       "    </tr>\n",
       "    <tr>\n",
       "      <th>768</th>\n",
       "      <td>0.292593</td>\n",
       "      <td>0.111111</td>\n",
       "    </tr>\n",
       "    <tr>\n",
       "      <th>769</th>\n",
       "      <td>0.455556</td>\n",
       "      <td>0.388889</td>\n",
       "    </tr>\n",
       "    <tr>\n",
       "      <th>770</th>\n",
       "      <td>0.070370</td>\n",
       "      <td>0.055556</td>\n",
       "    </tr>\n",
       "    <tr>\n",
       "      <th>771</th>\n",
       "      <td>0.003704</td>\n",
       "      <td>0.055556</td>\n",
       "    </tr>\n",
       "    <tr>\n",
       "      <th>772</th>\n",
       "      <td>0.159259</td>\n",
       "      <td>0.111111</td>\n",
       "    </tr>\n",
       "  </tbody>\n",
       "</table>\n",
       "<p>773 rows × 2 columns</p>\n",
       "</div>"
      ],
      "text/plain": [
       "       workex      gmat\n",
       "0    0.044444  0.666667\n",
       "1    0.362963  0.222222\n",
       "2    0.177778  0.777778\n",
       "3    0.333333  0.500000\n",
       "4    0.737037  0.611111\n",
       "..        ...       ...\n",
       "768  0.292593  0.111111\n",
       "769  0.455556  0.388889\n",
       "770  0.070370  0.055556\n",
       "771  0.003704  0.055556\n",
       "772  0.159259  0.111111\n",
       "\n",
       "[773 rows x 2 columns]"
      ]
     },
     "execution_count": 23,
     "metadata": {},
     "output_type": "execute_result"
    }
   ],
   "source": [
    "# Second Method\n",
    "mba4 = (mba-mba.min())/(mba.max()-mba.min())\n",
    "mba4"
   ]
  },
  {
   "cell_type": "code",
   "execution_count": null,
   "id": "45d08a7c",
   "metadata": {},
   "outputs": [],
   "source": []
  },
  {
   "cell_type": "code",
   "execution_count": null,
   "id": "93cc503a",
   "metadata": {},
   "outputs": [],
   "source": []
  }
 ],
 "metadata": {
  "kernelspec": {
   "display_name": "Python 3",
   "language": "python",
   "name": "python3"
  },
  "language_info": {
   "codemirror_mode": {
    "name": "ipython",
    "version": 3
   },
   "file_extension": ".py",
   "mimetype": "text/x-python",
   "name": "python",
   "nbconvert_exporter": "python",
   "pygments_lexer": "ipython3",
   "version": "3.8.8"
  }
 },
 "nbformat": 4,
 "nbformat_minor": 5
}
