{
 "cells": [
  {
   "cell_type": "code",
   "execution_count": 3,
   "id": "76b7e5d4",
   "metadata": {},
   "outputs": [],
   "source": [
    "import numpy as np\n",
    "import pandas as pd\n",
    "import matplotlib.pyplot as plt\n",
    "import seaborn as sns\n",
    "%matplotlib inline "
   ]
  },
  {
   "cell_type": "code",
   "execution_count": 7,
   "id": "d4579a4a",
   "metadata": {},
   "outputs": [
    {
     "data": {
      "text/html": [
       "<div>\n",
       "<style scoped>\n",
       "    .dataframe tbody tr th:only-of-type {\n",
       "        vertical-align: middle;\n",
       "    }\n",
       "\n",
       "    .dataframe tbody tr th {\n",
       "        vertical-align: top;\n",
       "    }\n",
       "\n",
       "    .dataframe thead th {\n",
       "        text-align: right;\n",
       "    }\n",
       "</style>\n",
       "<table border=\"1\" class=\"dataframe\">\n",
       "  <thead>\n",
       "    <tr style=\"text-align: right;\">\n",
       "      <th></th>\n",
       "      <th>Datasrno</th>\n",
       "      <th>workex</th>\n",
       "      <th>gmat</th>\n",
       "    </tr>\n",
       "  </thead>\n",
       "  <tbody>\n",
       "    <tr>\n",
       "      <th>0</th>\n",
       "      <td>1</td>\n",
       "      <td>21</td>\n",
       "      <td>720</td>\n",
       "    </tr>\n",
       "    <tr>\n",
       "      <th>1</th>\n",
       "      <td>2</td>\n",
       "      <td>107</td>\n",
       "      <td>640</td>\n",
       "    </tr>\n",
       "    <tr>\n",
       "      <th>2</th>\n",
       "      <td>3</td>\n",
       "      <td>57</td>\n",
       "      <td>740</td>\n",
       "    </tr>\n",
       "    <tr>\n",
       "      <th>3</th>\n",
       "      <td>4</td>\n",
       "      <td>99</td>\n",
       "      <td>690</td>\n",
       "    </tr>\n",
       "    <tr>\n",
       "      <th>4</th>\n",
       "      <td>5</td>\n",
       "      <td>208</td>\n",
       "      <td>710</td>\n",
       "    </tr>\n",
       "    <tr>\n",
       "      <th>...</th>\n",
       "      <td>...</td>\n",
       "      <td>...</td>\n",
       "      <td>...</td>\n",
       "    </tr>\n",
       "    <tr>\n",
       "      <th>768</th>\n",
       "      <td>769</td>\n",
       "      <td>88</td>\n",
       "      <td>620</td>\n",
       "    </tr>\n",
       "    <tr>\n",
       "      <th>769</th>\n",
       "      <td>770</td>\n",
       "      <td>132</td>\n",
       "      <td>670</td>\n",
       "    </tr>\n",
       "    <tr>\n",
       "      <th>770</th>\n",
       "      <td>771</td>\n",
       "      <td>28</td>\n",
       "      <td>610</td>\n",
       "    </tr>\n",
       "    <tr>\n",
       "      <th>771</th>\n",
       "      <td>772</td>\n",
       "      <td>10</td>\n",
       "      <td>610</td>\n",
       "    </tr>\n",
       "    <tr>\n",
       "      <th>772</th>\n",
       "      <td>773</td>\n",
       "      <td>52</td>\n",
       "      <td>620</td>\n",
       "    </tr>\n",
       "  </tbody>\n",
       "</table>\n",
       "<p>773 rows × 3 columns</p>\n",
       "</div>"
      ],
      "text/plain": [
       "     Datasrno  workex  gmat\n",
       "0           1      21   720\n",
       "1           2     107   640\n",
       "2           3      57   740\n",
       "3           4      99   690\n",
       "4           5     208   710\n",
       "..        ...     ...   ...\n",
       "768       769      88   620\n",
       "769       770     132   670\n",
       "770       771      28   610\n",
       "771       772      10   610\n",
       "772       773      52   620\n",
       "\n",
       "[773 rows x 3 columns]"
      ]
     },
     "execution_count": 7,
     "metadata": {},
     "output_type": "execute_result"
    }
   ],
   "source": [
    "mba = pd.read_csv(\"C:\\\\Users\\\\nikhi\\\\OneDrive\\\\Desktop\\\\Social Prachar\\\\Excel files\\\\mba.csv\")\n",
    "mba"
   ]
  },
  {
   "cell_type": "code",
   "execution_count": 8,
   "id": "a4706f27",
   "metadata": {},
   "outputs": [],
   "source": [
    "del mba['Datasrno']"
   ]
  },
  {
   "cell_type": "code",
   "execution_count": 9,
   "id": "8b7434e8",
   "metadata": {},
   "outputs": [
    {
     "data": {
      "text/html": [
       "<div>\n",
       "<style scoped>\n",
       "    .dataframe tbody tr th:only-of-type {\n",
       "        vertical-align: middle;\n",
       "    }\n",
       "\n",
       "    .dataframe tbody tr th {\n",
       "        vertical-align: top;\n",
       "    }\n",
       "\n",
       "    .dataframe thead th {\n",
       "        text-align: right;\n",
       "    }\n",
       "</style>\n",
       "<table border=\"1\" class=\"dataframe\">\n",
       "  <thead>\n",
       "    <tr style=\"text-align: right;\">\n",
       "      <th></th>\n",
       "      <th>workex</th>\n",
       "      <th>gmat</th>\n",
       "    </tr>\n",
       "  </thead>\n",
       "  <tbody>\n",
       "    <tr>\n",
       "      <th>0</th>\n",
       "      <td>21</td>\n",
       "      <td>720</td>\n",
       "    </tr>\n",
       "    <tr>\n",
       "      <th>1</th>\n",
       "      <td>107</td>\n",
       "      <td>640</td>\n",
       "    </tr>\n",
       "    <tr>\n",
       "      <th>2</th>\n",
       "      <td>57</td>\n",
       "      <td>740</td>\n",
       "    </tr>\n",
       "    <tr>\n",
       "      <th>3</th>\n",
       "      <td>99</td>\n",
       "      <td>690</td>\n",
       "    </tr>\n",
       "    <tr>\n",
       "      <th>4</th>\n",
       "      <td>208</td>\n",
       "      <td>710</td>\n",
       "    </tr>\n",
       "    <tr>\n",
       "      <th>...</th>\n",
       "      <td>...</td>\n",
       "      <td>...</td>\n",
       "    </tr>\n",
       "    <tr>\n",
       "      <th>768</th>\n",
       "      <td>88</td>\n",
       "      <td>620</td>\n",
       "    </tr>\n",
       "    <tr>\n",
       "      <th>769</th>\n",
       "      <td>132</td>\n",
       "      <td>670</td>\n",
       "    </tr>\n",
       "    <tr>\n",
       "      <th>770</th>\n",
       "      <td>28</td>\n",
       "      <td>610</td>\n",
       "    </tr>\n",
       "    <tr>\n",
       "      <th>771</th>\n",
       "      <td>10</td>\n",
       "      <td>610</td>\n",
       "    </tr>\n",
       "    <tr>\n",
       "      <th>772</th>\n",
       "      <td>52</td>\n",
       "      <td>620</td>\n",
       "    </tr>\n",
       "  </tbody>\n",
       "</table>\n",
       "<p>773 rows × 2 columns</p>\n",
       "</div>"
      ],
      "text/plain": [
       "     workex  gmat\n",
       "0        21   720\n",
       "1       107   640\n",
       "2        57   740\n",
       "3        99   690\n",
       "4       208   710\n",
       "..      ...   ...\n",
       "768      88   620\n",
       "769     132   670\n",
       "770      28   610\n",
       "771      10   610\n",
       "772      52   620\n",
       "\n",
       "[773 rows x 2 columns]"
      ]
     },
     "execution_count": 9,
     "metadata": {},
     "output_type": "execute_result"
    }
   ],
   "source": [
    "mba"
   ]
  },
  {
   "cell_type": "code",
   "execution_count": 10,
   "id": "a75ccfcb",
   "metadata": {},
   "outputs": [
    {
     "data": {
      "text/html": [
       "<div>\n",
       "<style scoped>\n",
       "    .dataframe tbody tr th:only-of-type {\n",
       "        vertical-align: middle;\n",
       "    }\n",
       "\n",
       "    .dataframe tbody tr th {\n",
       "        vertical-align: top;\n",
       "    }\n",
       "\n",
       "    .dataframe thead th {\n",
       "        text-align: right;\n",
       "    }\n",
       "</style>\n",
       "<table border=\"1\" class=\"dataframe\">\n",
       "  <thead>\n",
       "    <tr style=\"text-align: right;\">\n",
       "      <th></th>\n",
       "      <th>Datasrno</th>\n",
       "      <th>workex</th>\n",
       "      <th>gmat</th>\n",
       "    </tr>\n",
       "  </thead>\n",
       "  <tbody>\n",
       "    <tr>\n",
       "      <th>0</th>\n",
       "      <td>1</td>\n",
       "      <td>21</td>\n",
       "      <td>720</td>\n",
       "    </tr>\n",
       "    <tr>\n",
       "      <th>1</th>\n",
       "      <td>2</td>\n",
       "      <td>107</td>\n",
       "      <td>640</td>\n",
       "    </tr>\n",
       "    <tr>\n",
       "      <th>2</th>\n",
       "      <td>3</td>\n",
       "      <td>57</td>\n",
       "      <td>740</td>\n",
       "    </tr>\n",
       "    <tr>\n",
       "      <th>3</th>\n",
       "      <td>4</td>\n",
       "      <td>99</td>\n",
       "      <td>690</td>\n",
       "    </tr>\n",
       "    <tr>\n",
       "      <th>4</th>\n",
       "      <td>5</td>\n",
       "      <td>208</td>\n",
       "      <td>710</td>\n",
       "    </tr>\n",
       "    <tr>\n",
       "      <th>...</th>\n",
       "      <td>...</td>\n",
       "      <td>...</td>\n",
       "      <td>...</td>\n",
       "    </tr>\n",
       "    <tr>\n",
       "      <th>768</th>\n",
       "      <td>769</td>\n",
       "      <td>88</td>\n",
       "      <td>620</td>\n",
       "    </tr>\n",
       "    <tr>\n",
       "      <th>769</th>\n",
       "      <td>770</td>\n",
       "      <td>132</td>\n",
       "      <td>670</td>\n",
       "    </tr>\n",
       "    <tr>\n",
       "      <th>770</th>\n",
       "      <td>771</td>\n",
       "      <td>28</td>\n",
       "      <td>610</td>\n",
       "    </tr>\n",
       "    <tr>\n",
       "      <th>771</th>\n",
       "      <td>772</td>\n",
       "      <td>10</td>\n",
       "      <td>610</td>\n",
       "    </tr>\n",
       "    <tr>\n",
       "      <th>772</th>\n",
       "      <td>773</td>\n",
       "      <td>52</td>\n",
       "      <td>620</td>\n",
       "    </tr>\n",
       "  </tbody>\n",
       "</table>\n",
       "<p>773 rows × 3 columns</p>\n",
       "</div>"
      ],
      "text/plain": [
       "     Datasrno  workex  gmat\n",
       "0           1      21   720\n",
       "1           2     107   640\n",
       "2           3      57   740\n",
       "3           4      99   690\n",
       "4           5     208   710\n",
       "..        ...     ...   ...\n",
       "768       769      88   620\n",
       "769       770     132   670\n",
       "770       771      28   610\n",
       "771       772      10   610\n",
       "772       773      52   620\n",
       "\n",
       "[773 rows x 3 columns]"
      ]
     },
     "execution_count": 10,
     "metadata": {},
     "output_type": "execute_result"
    }
   ],
   "source": [
    "mba = pd.read_csv(\"C:\\\\Users\\\\nikhi\\\\OneDrive\\\\Desktop\\\\Social Prachar\\\\Excel files\\\\mba.csv\")\n",
    "mba"
   ]
  },
  {
   "cell_type": "code",
   "execution_count": 11,
   "id": "f02660ae",
   "metadata": {},
   "outputs": [
    {
     "data": {
      "text/plain": [
       "773"
      ]
     },
     "execution_count": 11,
     "metadata": {},
     "output_type": "execute_result"
    }
   ],
   "source": [
    "len(mba)"
   ]
  },
  {
   "cell_type": "code",
   "execution_count": 12,
   "id": "dd0eeaaf",
   "metadata": {},
   "outputs": [
    {
     "data": {
      "text/plain": [
       "3"
      ]
     },
     "execution_count": 12,
     "metadata": {},
     "output_type": "execute_result"
    }
   ],
   "source": [
    "len(mba.columns)"
   ]
  },
  {
   "cell_type": "code",
   "execution_count": 13,
   "id": "5945dcb9",
   "metadata": {},
   "outputs": [
    {
     "data": {
      "text/plain": [
       "(773, 3)"
      ]
     },
     "execution_count": 13,
     "metadata": {},
     "output_type": "execute_result"
    }
   ],
   "source": [
    "mba.shape"
   ]
  },
  {
   "cell_type": "code",
   "execution_count": 14,
   "id": "2653ddae",
   "metadata": {},
   "outputs": [
    {
     "data": {
      "text/plain": [
       "Index(['Datasrno', 'workex', 'gmat'], dtype='object')"
      ]
     },
     "execution_count": 14,
     "metadata": {},
     "output_type": "execute_result"
    }
   ],
   "source": [
    "mba.columns"
   ]
  },
  {
   "cell_type": "code",
   "execution_count": 15,
   "id": "16fc149d",
   "metadata": {},
   "outputs": [
    {
     "data": {
      "text/plain": [
       "Datasrno    int64\n",
       "workex      int64\n",
       "gmat        int64\n",
       "dtype: object"
      ]
     },
     "execution_count": 15,
     "metadata": {},
     "output_type": "execute_result"
    }
   ],
   "source": [
    "mba.dtypes"
   ]
  },
  {
   "cell_type": "code",
   "execution_count": 18,
   "id": "3293da2a",
   "metadata": {},
   "outputs": [
    {
     "name": "stdout",
     "output_type": "stream",
     "text": [
      "<class 'pandas.core.frame.DataFrame'>\n",
      "RangeIndex: 773 entries, 0 to 772\n",
      "Data columns (total 3 columns):\n",
      " #   Column    Non-Null Count  Dtype\n",
      "---  ------    --------------  -----\n",
      " 0   Datasrno  773 non-null    int64\n",
      " 1   workex    773 non-null    int64\n",
      " 2   gmat      773 non-null    int64\n",
      "dtypes: int64(3)\n",
      "memory usage: 18.2 KB\n"
     ]
    }
   ],
   "source": [
    "mba.info()"
   ]
  },
  {
   "cell_type": "code",
   "execution_count": 19,
   "id": "cfc1d3cf",
   "metadata": {},
   "outputs": [
    {
     "data": {
      "text/html": [
       "<div>\n",
       "<style scoped>\n",
       "    .dataframe tbody tr th:only-of-type {\n",
       "        vertical-align: middle;\n",
       "    }\n",
       "\n",
       "    .dataframe tbody tr th {\n",
       "        vertical-align: top;\n",
       "    }\n",
       "\n",
       "    .dataframe thead th {\n",
       "        text-align: right;\n",
       "    }\n",
       "</style>\n",
       "<table border=\"1\" class=\"dataframe\">\n",
       "  <thead>\n",
       "    <tr style=\"text-align: right;\">\n",
       "      <th></th>\n",
       "      <th>Datasrno</th>\n",
       "      <th>workex</th>\n",
       "      <th>gmat</th>\n",
       "    </tr>\n",
       "  </thead>\n",
       "  <tbody>\n",
       "    <tr>\n",
       "      <th>0</th>\n",
       "      <td>1</td>\n",
       "      <td>21</td>\n",
       "      <td>720</td>\n",
       "    </tr>\n",
       "    <tr>\n",
       "      <th>1</th>\n",
       "      <td>2</td>\n",
       "      <td>107</td>\n",
       "      <td>640</td>\n",
       "    </tr>\n",
       "    <tr>\n",
       "      <th>2</th>\n",
       "      <td>3</td>\n",
       "      <td>57</td>\n",
       "      <td>740</td>\n",
       "    </tr>\n",
       "    <tr>\n",
       "      <th>3</th>\n",
       "      <td>4</td>\n",
       "      <td>99</td>\n",
       "      <td>690</td>\n",
       "    </tr>\n",
       "    <tr>\n",
       "      <th>4</th>\n",
       "      <td>5</td>\n",
       "      <td>208</td>\n",
       "      <td>710</td>\n",
       "    </tr>\n",
       "  </tbody>\n",
       "</table>\n",
       "</div>"
      ],
      "text/plain": [
       "   Datasrno  workex  gmat\n",
       "0         1      21   720\n",
       "1         2     107   640\n",
       "2         3      57   740\n",
       "3         4      99   690\n",
       "4         5     208   710"
      ]
     },
     "execution_count": 19,
     "metadata": {},
     "output_type": "execute_result"
    }
   ],
   "source": [
    "mba.head()"
   ]
  },
  {
   "cell_type": "code",
   "execution_count": 20,
   "id": "096e02b8",
   "metadata": {},
   "outputs": [
    {
     "data": {
      "text/html": [
       "<div>\n",
       "<style scoped>\n",
       "    .dataframe tbody tr th:only-of-type {\n",
       "        vertical-align: middle;\n",
       "    }\n",
       "\n",
       "    .dataframe tbody tr th {\n",
       "        vertical-align: top;\n",
       "    }\n",
       "\n",
       "    .dataframe thead th {\n",
       "        text-align: right;\n",
       "    }\n",
       "</style>\n",
       "<table border=\"1\" class=\"dataframe\">\n",
       "  <thead>\n",
       "    <tr style=\"text-align: right;\">\n",
       "      <th></th>\n",
       "      <th>Datasrno</th>\n",
       "      <th>workex</th>\n",
       "      <th>gmat</th>\n",
       "    </tr>\n",
       "  </thead>\n",
       "  <tbody>\n",
       "    <tr>\n",
       "      <th>768</th>\n",
       "      <td>769</td>\n",
       "      <td>88</td>\n",
       "      <td>620</td>\n",
       "    </tr>\n",
       "    <tr>\n",
       "      <th>769</th>\n",
       "      <td>770</td>\n",
       "      <td>132</td>\n",
       "      <td>670</td>\n",
       "    </tr>\n",
       "    <tr>\n",
       "      <th>770</th>\n",
       "      <td>771</td>\n",
       "      <td>28</td>\n",
       "      <td>610</td>\n",
       "    </tr>\n",
       "    <tr>\n",
       "      <th>771</th>\n",
       "      <td>772</td>\n",
       "      <td>10</td>\n",
       "      <td>610</td>\n",
       "    </tr>\n",
       "    <tr>\n",
       "      <th>772</th>\n",
       "      <td>773</td>\n",
       "      <td>52</td>\n",
       "      <td>620</td>\n",
       "    </tr>\n",
       "  </tbody>\n",
       "</table>\n",
       "</div>"
      ],
      "text/plain": [
       "     Datasrno  workex  gmat\n",
       "768       769      88   620\n",
       "769       770     132   670\n",
       "770       771      28   610\n",
       "771       772      10   610\n",
       "772       773      52   620"
      ]
     },
     "execution_count": 20,
     "metadata": {},
     "output_type": "execute_result"
    }
   ],
   "source": [
    "mba.tail()"
   ]
  },
  {
   "cell_type": "code",
   "execution_count": 21,
   "id": "21c4b5a9",
   "metadata": {},
   "outputs": [
    {
     "data": {
      "text/html": [
       "<div>\n",
       "<style scoped>\n",
       "    .dataframe tbody tr th:only-of-type {\n",
       "        vertical-align: middle;\n",
       "    }\n",
       "\n",
       "    .dataframe tbody tr th {\n",
       "        vertical-align: top;\n",
       "    }\n",
       "\n",
       "    .dataframe thead th {\n",
       "        text-align: right;\n",
       "    }\n",
       "</style>\n",
       "<table border=\"1\" class=\"dataframe\">\n",
       "  <thead>\n",
       "    <tr style=\"text-align: right;\">\n",
       "      <th></th>\n",
       "      <th>Datasrno</th>\n",
       "      <th>workex</th>\n",
       "      <th>gmat</th>\n",
       "    </tr>\n",
       "  </thead>\n",
       "  <tbody>\n",
       "    <tr>\n",
       "      <th>count</th>\n",
       "      <td>773.00000</td>\n",
       "      <td>773.00000</td>\n",
       "      <td>773.000000</td>\n",
       "    </tr>\n",
       "    <tr>\n",
       "      <th>mean</th>\n",
       "      <td>387.00000</td>\n",
       "      <td>57.50194</td>\n",
       "      <td>711.164295</td>\n",
       "    </tr>\n",
       "    <tr>\n",
       "      <th>std</th>\n",
       "      <td>223.29017</td>\n",
       "      <td>27.38682</td>\n",
       "      <td>29.339714</td>\n",
       "    </tr>\n",
       "    <tr>\n",
       "      <th>min</th>\n",
       "      <td>1.00000</td>\n",
       "      <td>9.00000</td>\n",
       "      <td>600.000000</td>\n",
       "    </tr>\n",
       "    <tr>\n",
       "      <th>25%</th>\n",
       "      <td>194.00000</td>\n",
       "      <td>41.00000</td>\n",
       "      <td>690.000000</td>\n",
       "    </tr>\n",
       "    <tr>\n",
       "      <th>50%</th>\n",
       "      <td>387.00000</td>\n",
       "      <td>52.00000</td>\n",
       "      <td>710.000000</td>\n",
       "    </tr>\n",
       "    <tr>\n",
       "      <th>75%</th>\n",
       "      <td>580.00000</td>\n",
       "      <td>69.00000</td>\n",
       "      <td>730.000000</td>\n",
       "    </tr>\n",
       "    <tr>\n",
       "      <th>max</th>\n",
       "      <td>773.00000</td>\n",
       "      <td>279.00000</td>\n",
       "      <td>780.000000</td>\n",
       "    </tr>\n",
       "  </tbody>\n",
       "</table>\n",
       "</div>"
      ],
      "text/plain": [
       "        Datasrno     workex        gmat\n",
       "count  773.00000  773.00000  773.000000\n",
       "mean   387.00000   57.50194  711.164295\n",
       "std    223.29017   27.38682   29.339714\n",
       "min      1.00000    9.00000  600.000000\n",
       "25%    194.00000   41.00000  690.000000\n",
       "50%    387.00000   52.00000  710.000000\n",
       "75%    580.00000   69.00000  730.000000\n",
       "max    773.00000  279.00000  780.000000"
      ]
     },
     "execution_count": 21,
     "metadata": {},
     "output_type": "execute_result"
    }
   ],
   "source": [
    "mba.describe()"
   ]
  },
  {
   "cell_type": "code",
   "execution_count": 22,
   "id": "4d9fa9dd",
   "metadata": {},
   "outputs": [
    {
     "data": {
      "text/html": [
       "<div>\n",
       "<style scoped>\n",
       "    .dataframe tbody tr th:only-of-type {\n",
       "        vertical-align: middle;\n",
       "    }\n",
       "\n",
       "    .dataframe tbody tr th {\n",
       "        vertical-align: top;\n",
       "    }\n",
       "\n",
       "    .dataframe thead th {\n",
       "        text-align: right;\n",
       "    }\n",
       "</style>\n",
       "<table border=\"1\" class=\"dataframe\">\n",
       "  <thead>\n",
       "    <tr style=\"text-align: right;\">\n",
       "      <th></th>\n",
       "      <th>count</th>\n",
       "      <th>mean</th>\n",
       "      <th>std</th>\n",
       "      <th>min</th>\n",
       "      <th>25%</th>\n",
       "      <th>50%</th>\n",
       "      <th>75%</th>\n",
       "      <th>max</th>\n",
       "    </tr>\n",
       "  </thead>\n",
       "  <tbody>\n",
       "    <tr>\n",
       "      <th>Datasrno</th>\n",
       "      <td>773.0</td>\n",
       "      <td>387.000000</td>\n",
       "      <td>223.290170</td>\n",
       "      <td>1.0</td>\n",
       "      <td>194.0</td>\n",
       "      <td>387.0</td>\n",
       "      <td>580.0</td>\n",
       "      <td>773.0</td>\n",
       "    </tr>\n",
       "    <tr>\n",
       "      <th>workex</th>\n",
       "      <td>773.0</td>\n",
       "      <td>57.501940</td>\n",
       "      <td>27.386820</td>\n",
       "      <td>9.0</td>\n",
       "      <td>41.0</td>\n",
       "      <td>52.0</td>\n",
       "      <td>69.0</td>\n",
       "      <td>279.0</td>\n",
       "    </tr>\n",
       "    <tr>\n",
       "      <th>gmat</th>\n",
       "      <td>773.0</td>\n",
       "      <td>711.164295</td>\n",
       "      <td>29.339714</td>\n",
       "      <td>600.0</td>\n",
       "      <td>690.0</td>\n",
       "      <td>710.0</td>\n",
       "      <td>730.0</td>\n",
       "      <td>780.0</td>\n",
       "    </tr>\n",
       "  </tbody>\n",
       "</table>\n",
       "</div>"
      ],
      "text/plain": [
       "          count        mean         std    min    25%    50%    75%    max\n",
       "Datasrno  773.0  387.000000  223.290170    1.0  194.0  387.0  580.0  773.0\n",
       "workex    773.0   57.501940   27.386820    9.0   41.0   52.0   69.0  279.0\n",
       "gmat      773.0  711.164295   29.339714  600.0  690.0  710.0  730.0  780.0"
      ]
     },
     "execution_count": 22,
     "metadata": {},
     "output_type": "execute_result"
    }
   ],
   "source": [
    "# To convert rows into columns\n",
    "mba.describe().transpose()"
   ]
  },
  {
   "cell_type": "code",
   "execution_count": 23,
   "id": "50f3924b",
   "metadata": {},
   "outputs": [
    {
     "data": {
      "text/plain": [
       "0      720\n",
       "1      640\n",
       "2      740\n",
       "3      690\n",
       "4      710\n",
       "      ... \n",
       "768    620\n",
       "769    670\n",
       "770    610\n",
       "771    610\n",
       "772    620\n",
       "Name: gmat, Length: 773, dtype: int64"
      ]
     },
     "execution_count": 23,
     "metadata": {},
     "output_type": "execute_result"
    }
   ],
   "source": [
    "mba['gmat']"
   ]
  },
  {
   "cell_type": "code",
   "execution_count": 24,
   "id": "5acb1140",
   "metadata": {},
   "outputs": [
    {
     "data": {
      "text/plain": [
       "Datasrno    387.000000\n",
       "workex       57.501940\n",
       "gmat        711.164295\n",
       "dtype: float64"
      ]
     },
     "execution_count": 24,
     "metadata": {},
     "output_type": "execute_result"
    }
   ],
   "source": [
    "mba.mean()"
   ]
  },
  {
   "cell_type": "code",
   "execution_count": 25,
   "id": "249adb35",
   "metadata": {},
   "outputs": [
    {
     "data": {
      "text/plain": [
       "711.1642949547219"
      ]
     },
     "execution_count": 25,
     "metadata": {},
     "output_type": "execute_result"
    }
   ],
   "source": [
    "mba['gmat'].mean()"
   ]
  },
  {
   "cell_type": "code",
   "execution_count": 26,
   "id": "7e1bae77",
   "metadata": {},
   "outputs": [
    {
     "data": {
      "text/plain": [
       "Datasrno    223.290170\n",
       "workex       27.386820\n",
       "gmat         29.339714\n",
       "dtype: float64"
      ]
     },
     "execution_count": 26,
     "metadata": {},
     "output_type": "execute_result"
    }
   ],
   "source": [
    "mba.std()"
   ]
  },
  {
   "cell_type": "code",
   "execution_count": 27,
   "id": "cc040952",
   "metadata": {},
   "outputs": [
    {
     "data": {
      "text/plain": [
       "Datasrno    49858.500000\n",
       "workex        750.037885\n",
       "gmat          860.818827\n",
       "dtype: float64"
      ]
     },
     "execution_count": 27,
     "metadata": {},
     "output_type": "execute_result"
    }
   ],
   "source": [
    "mba.var()"
   ]
  },
  {
   "cell_type": "code",
   "execution_count": 28,
   "id": "b9157c60",
   "metadata": {},
   "outputs": [
    {
     "data": {
      "text/plain": [
       "Datasrno      1\n",
       "workex        9\n",
       "gmat        600\n",
       "dtype: int64"
      ]
     },
     "execution_count": 28,
     "metadata": {},
     "output_type": "execute_result"
    }
   ],
   "source": [
    "mba.min()"
   ]
  },
  {
   "cell_type": "code",
   "execution_count": 29,
   "id": "a4b4868b",
   "metadata": {},
   "outputs": [
    {
     "data": {
      "text/plain": [
       "Datasrno    773\n",
       "workex      279\n",
       "gmat        780\n",
       "dtype: int64"
      ]
     },
     "execution_count": 29,
     "metadata": {},
     "output_type": "execute_result"
    }
   ],
   "source": [
    "mba.max()"
   ]
  },
  {
   "cell_type": "code",
   "execution_count": 30,
   "id": "02fe49df",
   "metadata": {},
   "outputs": [
    {
     "data": {
      "text/plain": [
       "Datasrno    387.0\n",
       "workex       52.0\n",
       "gmat        710.0\n",
       "dtype: float64"
      ]
     },
     "execution_count": 30,
     "metadata": {},
     "output_type": "execute_result"
    }
   ],
   "source": [
    "mba.median()"
   ]
  },
  {
   "cell_type": "code",
   "execution_count": 33,
   "id": "c0b0d691",
   "metadata": {},
   "outputs": [
    {
     "data": {
      "text/plain": [
       "0    710\n",
       "dtype: int64"
      ]
     },
     "execution_count": 33,
     "metadata": {},
     "output_type": "execute_result"
    }
   ],
   "source": [
    "mba['gmat'].mode()"
   ]
  },
  {
   "cell_type": "code",
   "execution_count": 34,
   "id": "ac1bd678",
   "metadata": {},
   "outputs": [
    {
     "data": {
      "text/plain": [
       "0    45\n",
       "dtype: int64"
      ]
     },
     "execution_count": 34,
     "metadata": {},
     "output_type": "execute_result"
    }
   ],
   "source": [
    " mba['workex'].mode()"
   ]
  },
  {
   "cell_type": "code",
   "execution_count": null,
   "id": "e6c26098",
   "metadata": {},
   "outputs": [],
   "source": []
  }
 ],
 "metadata": {
  "kernelspec": {
   "display_name": "Python 3",
   "language": "python",
   "name": "python3"
  },
  "language_info": {
   "codemirror_mode": {
    "name": "ipython",
    "version": 3
   },
   "file_extension": ".py",
   "mimetype": "text/x-python",
   "name": "python",
   "nbconvert_exporter": "python",
   "pygments_lexer": "ipython3",
   "version": "3.8.8"
  }
 },
 "nbformat": 4,
 "nbformat_minor": 5
}
